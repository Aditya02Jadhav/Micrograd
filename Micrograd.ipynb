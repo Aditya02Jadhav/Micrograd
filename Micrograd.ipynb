{
 "cells": [
  {
   "cell_type": "code",
   "execution_count": 1,
   "id": "019a4e2c-b3d9-40f2-9694-c870e739efdf",
   "metadata": {},
   "outputs": [],
   "source": [
    "import math\n",
    "import numpy as np\n",
    "import matplotlib.pyplot as plt\n",
    "%matplotlib inline"
   ]
  },
  {
   "cell_type": "code",
   "execution_count": 2,
   "id": "e047654e-4600-4527-8d83-e96dfc5f7d7e",
   "metadata": {},
   "outputs": [],
   "source": [
    "def f(x):\n",
    "    return 3*x**2 - 4*x + 5"
   ]
  },
  {
   "cell_type": "code",
   "execution_count": 3,
   "id": "b098b3c7-4988-41f2-a15e-405076704880",
   "metadata": {},
   "outputs": [
    {
     "data": {
      "text/plain": [
       "20"
      ]
     },
     "execution_count": 3,
     "metadata": {},
     "output_type": "execute_result"
    }
   ],
   "source": [
    "f(3)"
   ]
  },
  {
   "cell_type": "code",
   "execution_count": 4,
   "id": "34a88027-ed91-4e0c-b7a9-61f9157bebd9",
   "metadata": {},
   "outputs": [
    {
     "data": {
      "text/plain": [
       "array([100.    ,  91.6875,  83.75  ,  76.1875,  69.    ,  62.1875,\n",
       "        55.75  ,  49.6875,  44.    ,  38.6875,  33.75  ,  29.1875,\n",
       "        25.    ,  21.1875,  17.75  ,  14.6875,  12.    ,   9.6875,\n",
       "         7.75  ,   6.1875,   5.    ,   4.1875,   3.75  ,   3.6875,\n",
       "         4.    ,   4.6875,   5.75  ,   7.1875,   9.    ,  11.1875,\n",
       "        13.75  ,  16.6875,  20.    ,  23.6875,  27.75  ,  32.1875,\n",
       "        37.    ,  42.1875,  47.75  ,  53.6875])"
      ]
     },
     "execution_count": 4,
     "metadata": {},
     "output_type": "execute_result"
    }
   ],
   "source": [
    "xs = np.arange(-5,5,0.25)\n",
    "ys = f(xs)\n",
    "ys"
   ]
  },
  {
   "cell_type": "code",
   "execution_count": 5,
   "id": "020df51d-94c3-4597-a4a9-4198e1ef70b1",
   "metadata": {},
   "outputs": [
    {
     "data": {
      "text/plain": [
       "[<matplotlib.lines.Line2D at 0x1c54eb0edf0>]"
      ]
     },
     "execution_count": 5,
     "metadata": {},
     "output_type": "execute_result"
    },
    {
     "data": {
      "image/png": "[encoded data removed]",
      "text/plain": [
       "<Figure size 640x480 with 1 Axes>"
      ]
     },
     "metadata": {},
     "output_type": "display_data"
    }
   ],
   "source": [
    "plt.plot(ys) "
   ]
  },
  {
   "cell_type": "code",
   "execution_count": 6,
   "id": "f4d33bf4-dfbd-45eb-bab3-9d4c841c12dc",
   "metadata": {},
   "outputs": [
    {
     "data": {
      "text/plain": [
       "2.999378523327323e-06"
      ]
     },
     "execution_count": 6,
     "metadata": {},
     "output_type": "execute_result"
    }
   ],
   "source": [
    "h = 0.000001 \n",
    "x = 2/3 \n",
    "(f(x+h) - f(x)) / h "
   ]
  },
  {
   "cell_type": "code",
   "execution_count": 7,
   "id": "11e74091-619f-402c-b96e-852b1f8379e4",
   "metadata": {},
   "outputs": [
    {
     "name": "stdout",
     "output_type": "stream",
     "text": [
      "4.0\n"
     ]
    }
   ],
   "source": [
    "a = 2.0\n",
    "b = -3.0\n",
    "c = 10.0\n",
    "d = a*b + c\n",
    "print(d)"
   ]
  },
  {
   "cell_type": "code",
   "execution_count": 8,
   "id": "2f83291c-11ae-4a84-bbde-adcdf846cc34",
   "metadata": {},
   "outputs": [
    {
     "name": "stdout",
     "output_type": "stream",
     "text": [
      "d1 4.0\n",
      "d2 4.0001\n",
      "slope 0.9999999999976694\n"
     ]
    }
   ],
   "source": [
    "h = 0.0001\n",
    "\n",
    "#inputs\n",
    "a = 2.0\n",
    "b = -3.0\n",
    "c = 10.0\n",
    "\n",
    "d1 = a*b + c         \n",
    "c += h            \n",
    "d2 = a*b + c\n",
    "\n",
    "print('d1', d1)\n",
    "print('d2', d2)\n",
    "print('slope', (d2-d1)/h)"
   ]
  },
  {
   "cell_type": "code",
   "execution_count": 9,
   "id": "d56717a4-3cb4-4adb-b070-dfb819e0ebf1",
   "metadata": {},
   "outputs": [],
   "source": [
    "class Value:\n",
    "    def __init__(self, data, _children=(), _op='', label=''):\n",
    "        self.data = data\n",
    "        self.grad = 0.0          \n",
    "        self._backward = lambda: None                  \n",
    "        self._prev = set(_children)           \n",
    "        self._op =_op                        \n",
    "        self.label = label\n",
    "        \n",
    "    def __repr__(self): \n",
    "        return f\"Value (data = {self.data})\"\n",
    "        \n",
    "    def __add__(self, other):\n",
    "        other = other if isinstance(other, Value) else Value(other) \n",
    "        out = Value(self.data + other.data, (self, other), '+') \n",
    "        def _backward():\n",
    "            self.grad += 1.0 * out.grad \n",
    "            other.grad += 1.0 * out.grad\n",
    "        out._backward = _backward\n",
    "        return out\n",
    "        \n",
    "    def __mul__(self, other):\n",
    "        other = other if isinstance(other, Value) else Value(other) \n",
    "        out = Value(self.data * other.data, (self, other), '*')\n",
    "        def _backward():\n",
    "            self.grad += other.data * out.grad  \n",
    "            other.grad += self.data * out.grad\n",
    "        out._backward = _backward\n",
    "        return out\n",
    "        \n",
    "    def __pow__(self, other): # creating a power/exponential function\n",
    "        assert isinstance(other, (int, float)), \"only supporting int and float powers for now\"\n",
    "        out = Value(self.data**other, (self,), f'**{other}')\n",
    "\n",
    "        def _backward():\n",
    "            self.grad += other * (self.data ** (other - 1)) * out.grad # check derivative of power chain rule on google.. this is it only\n",
    "        out._backward = _backward\n",
    "        return out\n",
    "\n",
    "    def __rmul__(self, other): #other, self\n",
    "        return self * other\n",
    "\n",
    "    def __truediv__(self, other): # self/other\n",
    "        return self * (other**-1)           # for division a/b = a * (1/b) = a * (b**-1) \n",
    "    def __neg__(self):  # -self\n",
    "        return self * -1\n",
    "    def __sub__(self, other): #self - other\n",
    "        return self + (-other)\n",
    "        \n",
    "    def tanh(self):\n",
    "        x = self.data\n",
    "        t = (math.exp(2*x) - 1)/(math.exp(2*x) + 1)     \n",
    "        out = Value(t, (self, ), 'tanh')\n",
    "\n",
    "        def _backward():\n",
    "            self.grad += (1 - t**2) * out.grad\n",
    "        out._backward = _backward\n",
    "        return out\n",
    "    \n",
    "    def exp(self):\n",
    "        x =self.data\n",
    "        out = Value(math.exp(x), (self, ), 'exp')\n",
    "\n",
    "        def _backward():\n",
    "            self.grad += out.data * out.grad   # d(e**x)/dx = e**x\n",
    "        out._backward = _backward\n",
    "        return out\n",
    "\n",
    "    def backward(self):\n",
    "        topo = []\n",
    "        visited = set()\n",
    "\n",
    "        def build_topo(v):\n",
    "            if v not in visited:\n",
    "                visited.add(v)\n",
    "                for child in v._prev:\n",
    "                    build_topo(child)\n",
    "                topo.append(v)\n",
    "        build_topo(self)\n",
    "\n",
    "        self.grad = 1.0\n",
    "        for node in reversed(topo):\n",
    "            node._backward()"
   ]
  },
  {
   "cell_type": "code",
   "execution_count": 10,
   "id": "6a36d862-2282-4f1e-97d4-b8e6907af8e9",
   "metadata": {},
   "outputs": [
    {
     "data": {
      "text/plain": [
       "Value (data = -2.0)"
      ]
     },
     "execution_count": 10,
     "metadata": {},
     "output_type": "execute_result"
    }
   ],
   "source": [
    "a = Value(2.0)\n",
    "b = Value(4.0)\n",
    "a-b"
   ]
  },
  {
   "cell_type": "code",
   "execution_count": 11,
   "id": "5428e8b5-86d9-4ab2-9c81-9da874559154",
   "metadata": {},
   "outputs": [],
   "source": [
    "from graphviz import Digraph\n",
    "\n",
    "def trace(root):\n",
    "    nodes, edges = set(), set()\n",
    "    def build(v):\n",
    "        if v not in nodes:\n",
    "            nodes.add(v)\n",
    "            for child in v._prev:\n",
    "                edges.add((child, v))\n",
    "                build(child)\n",
    "    build(root)\n",
    "    return nodes, edges\n",
    "\n",
    "def draw_dot(root):\n",
    "    dot = Digraph(format = 'svg', graph_attr = {'rankdir': 'LR'})  \n",
    "\n",
    "    nodes, edges = trace(root)\n",
    "    for n in nodes:\n",
    "        uid = str(id(n))\n",
    "        dot.node(name = uid, label = \"{ %s | data %.4f | grad %.4f }\" % (n.label, n.data, n.grad), shape = 'record')\n",
    "        if n._op:\n",
    "            dot.node(name = uid + n._op, label = n._op)\n",
    "            dot.edge(uid + n._op, uid)\n",
    "\n",
    "\n",
    "    for n1, n2 in edges:\n",
    "        dot.edge(str(id(n1)), str(id(n2)) + n2._op)\n",
    "\n",
    "    return dot"
   ]
  },
  {
   "cell_type": "code",
   "execution_count": 12,
   "id": "08c5217b-7975-48a8-88aa-438c7e0a1e4f",
   "metadata": {},
   "outputs": [],
   "source": [
    "# inputs x1,x2\n",
    "x1 = Value(2.0, label='x1')\n",
    "x2 = Value(0.0, label = 'x2')\n",
    "\n",
    "# weights w1,w2\n",
    "w1 = Value(-3.0, label = 'w1')\n",
    "w2 = Value(1.0, label = 'w2')\n",
    "\n",
    "# bias for the nueron\n",
    "b = Value(6.8813735870195432, label = 'b')\n",
    "\n",
    "# performing x1*w1 + x2*w2 + b\n",
    "x1w1 = x1*w1; x1w1.label = 'x1w1'\n",
    "x2w2 = x2*w2; x2w2.label = 'x2w2'\n",
    "x1w1x2w2 = x1w1 + x2w2; x1w1x2w2.label = 'x1w1x2w2'\n",
    "n= x1w1x2w2 + b; n.label = 'n'\n",
    "\n",
    "o = n.tanh(); o.label = 'o'     \n",
    "o.backward()"
   ]
  },
  {
   "cell_type": "code",
   "execution_count": 13,
   "id": "181f6af8-ca3e-47f2-8ed8-6578b8f0cc49",
   "metadata": {},
   "outputs": [
    {
     "data": {
      "image/svg+xml": [
       "<?xml version=\"1.0\" encoding=\"UTF-8\" standalone=\"no\"?>\n",
       "<!DOCTYPE svg PUBLIC \"-//W3C//DTD SVG 1.1//EN\"\n",
       " \"http://www.w3.org/Graphics/SVG/1.1/DTD/svg11.dtd\">\n",
       "<!-- Generated by graphviz version 2.50.0 (0)\n",
       " -->\n",
       "<!-- Pages: 1 -->\n",
       "<svg width=\"1540pt\" height=\"210pt\"\n",
       " viewBox=\"0.00 0.00 1540.00 210.00\" xmlns=\"http://www.w3.org/2000/svg\" xmlns:xlink=\"http://www.w3.org/1999/xlink\">\n",
       "<g id=\"graph0\" class=\"graph\" transform=\"scale(1 1) rotate(0) translate(4 206)\">\n",
       "<polygon fill=\"white\" stroke=\"transparent\" points=\"-4,4 -4,-206 1536,-206 1536,4 -4,4\"/>\n",
       "<!-- 1946940842048 -->\n",
       "<g id=\"node1\" class=\"node\">\n",
       "<title>1946940842048</title>\n",
       "<polygon fill=\"none\" stroke=\"black\" points=\"1036,-54.5 1036,-90.5 1221,-90.5 1221,-54.5 1036,-54.5\"/>\n",
       "<text text-anchor=\"middle\" x=\"1047.5\" y=\"-68.8\" font-family=\"Times New Roman,serif\" font-size=\"14.00\">n</text>\n",
       "<polyline fill=\"none\" stroke=\"black\" points=\"1059,-54.5 1059,-90.5 \"/>\n",
       "<text text-anchor=\"middle\" x=\"1099\" y=\"-68.8\" font-family=\"Times New Roman,serif\" font-size=\"14.00\">data 0.8814</text>\n",
       "<polyline fill=\"none\" stroke=\"black\" points=\"1139,-54.5 1139,-90.5 \"/>\n",
       "<text text-anchor=\"middle\" x=\"1180\" y=\"-68.8\" font-family=\"Times New Roman,serif\" font-size=\"14.00\">grad 0.5000</text>\n",
       "</g>\n",
       "<!-- 1946940843680tanh -->\n",
       "<g id=\"node8\" class=\"node\">\n",
       "<title>1946940843680tanh</title>\n",
       "<ellipse fill=\"none\" stroke=\"black\" cx=\"1284\" cy=\"-72.5\" rx=\"27\" ry=\"18\"/>\n",
       "<text text-anchor=\"middle\" x=\"1284\" y=\"-68.8\" font-family=\"Times New Roman,serif\" font-size=\"14.00\">tanh</text>\n",
       "</g>\n",
       "<!-- 1946940842048&#45;&gt;1946940843680tanh -->\n",
       "<g id=\"edge14\" class=\"edge\">\n",
       "<title>1946940842048&#45;&gt;1946940843680tanh</title>\n",
       "<path fill=\"none\" stroke=\"black\" d=\"M1221.01,-72.5C1230.01,-72.5 1238.74,-72.5 1246.66,-72.5\"/>\n",
       "<polygon fill=\"black\" stroke=\"black\" points=\"1246.91,-76 1256.91,-72.5 1246.91,-69 1246.91,-76\"/>\n",
       "</g>\n",
       "<!-- 1946940842048+ -->\n",
       "<g id=\"node2\" class=\"node\">\n",
       "<title>1946940842048+</title>\n",
       "<ellipse fill=\"none\" stroke=\"black\" cx=\"973\" cy=\"-72.5\" rx=\"27\" ry=\"18\"/>\n",
       "<text text-anchor=\"middle\" x=\"973\" y=\"-68.8\" font-family=\"Times New Roman,serif\" font-size=\"14.00\">+</text>\n",
       "</g>\n",
       "<!-- 1946940842048+&#45;&gt;1946940842048 -->\n",
       "<g id=\"edge1\" class=\"edge\">\n",
       "<title>1946940842048+&#45;&gt;1946940842048</title>\n",
       "<path fill=\"none\" stroke=\"black\" d=\"M1000.04,-72.5C1007.58,-72.5 1016.3,-72.5 1025.57,-72.5\"/>\n",
       "<polygon fill=\"black\" stroke=\"black\" points=\"1025.81,-76 1035.81,-72.5 1025.81,-69 1025.81,-76\"/>\n",
       "</g>\n",
       "<!-- 1946940842096 -->\n",
       "<g id=\"node3\" class=\"node\">\n",
       "<title>1946940842096</title>\n",
       "<polygon fill=\"none\" stroke=\"black\" points=\"326,-110.5 326,-146.5 540,-146.5 540,-110.5 326,-110.5\"/>\n",
       "<text text-anchor=\"middle\" x=\"349.5\" y=\"-124.8\" font-family=\"Times New Roman,serif\" font-size=\"14.00\">x1w1</text>\n",
       "<polyline fill=\"none\" stroke=\"black\" points=\"373,-110.5 373,-146.5 \"/>\n",
       "<text text-anchor=\"middle\" x=\"415.5\" y=\"-124.8\" font-family=\"Times New Roman,serif\" font-size=\"14.00\">data &#45;6.0000</text>\n",
       "<polyline fill=\"none\" stroke=\"black\" points=\"458,-110.5 458,-146.5 \"/>\n",
       "<text text-anchor=\"middle\" x=\"499\" y=\"-124.8\" font-family=\"Times New Roman,serif\" font-size=\"14.00\">grad 0.5000</text>\n",
       "</g>\n",
       "<!-- 1946940842144+ -->\n",
       "<g id=\"node10\" class=\"node\">\n",
       "<title>1946940842144+</title>\n",
       "<ellipse fill=\"none\" stroke=\"black\" cx=\"603\" cy=\"-100.5\" rx=\"27\" ry=\"18\"/>\n",
       "<text text-anchor=\"middle\" x=\"603\" y=\"-96.8\" font-family=\"Times New Roman,serif\" font-size=\"14.00\">+</text>\n",
       "</g>\n",
       "<!-- 1946940842096&#45;&gt;1946940842144+ -->\n",
       "<g id=\"edge13\" class=\"edge\">\n",
       "<title>1946940842096&#45;&gt;1946940842144+</title>\n",
       "<path fill=\"none\" stroke=\"black\" d=\"M540.4,-110.77C549.72,-109.21 558.65,-107.72 566.68,-106.39\"/>\n",
       "<polygon fill=\"black\" stroke=\"black\" points=\"567.38,-109.82 576.66,-104.72 566.22,-102.91 567.38,-109.82\"/>\n",
       "</g>\n",
       "<!-- 1946940842096* -->\n",
       "<g id=\"node4\" class=\"node\">\n",
       "<title>1946940842096*</title>\n",
       "<ellipse fill=\"none\" stroke=\"black\" cx=\"263\" cy=\"-128.5\" rx=\"27\" ry=\"18\"/>\n",
       "<text text-anchor=\"middle\" x=\"263\" y=\"-124.8\" font-family=\"Times New Roman,serif\" font-size=\"14.00\">*</text>\n",
       "</g>\n",
       "<!-- 1946940842096*&#45;&gt;1946940842096 -->\n",
       "<g id=\"edge2\" class=\"edge\">\n",
       "<title>1946940842096*&#45;&gt;1946940842096</title>\n",
       "<path fill=\"none\" stroke=\"black\" d=\"M290.25,-128.5C297.7,-128.5 306.34,-128.5 315.59,-128.5\"/>\n",
       "<polygon fill=\"black\" stroke=\"black\" points=\"315.84,-132 325.84,-128.5 315.84,-125 315.84,-132\"/>\n",
       "</g>\n",
       "<!-- 1946940844160 -->\n",
       "<g id=\"node5\" class=\"node\">\n",
       "<title>1946940844160</title>\n",
       "<polygon fill=\"none\" stroke=\"black\" points=\"4,-55.5 4,-91.5 196,-91.5 196,-55.5 4,-55.5\"/>\n",
       "<text text-anchor=\"middle\" x=\"19\" y=\"-69.8\" font-family=\"Times New Roman,serif\" font-size=\"14.00\">x2</text>\n",
       "<polyline fill=\"none\" stroke=\"black\" points=\"34,-55.5 34,-91.5 \"/>\n",
       "<text text-anchor=\"middle\" x=\"74\" y=\"-69.8\" font-family=\"Times New Roman,serif\" font-size=\"14.00\">data 0.0000</text>\n",
       "<polyline fill=\"none\" stroke=\"black\" points=\"114,-55.5 114,-91.5 \"/>\n",
       "<text text-anchor=\"middle\" x=\"155\" y=\"-69.8\" font-family=\"Times New Roman,serif\" font-size=\"14.00\">grad 0.5000</text>\n",
       "</g>\n",
       "<!-- 1946940842960* -->\n",
       "<g id=\"node14\" class=\"node\">\n",
       "<title>1946940842960*</title>\n",
       "<ellipse fill=\"none\" stroke=\"black\" cx=\"263\" cy=\"-73.5\" rx=\"27\" ry=\"18\"/>\n",
       "<text text-anchor=\"middle\" x=\"263\" y=\"-69.8\" font-family=\"Times New Roman,serif\" font-size=\"14.00\">*</text>\n",
       "</g>\n",
       "<!-- 1946940844160&#45;&gt;1946940842960* -->\n",
       "<g id=\"edge9\" class=\"edge\">\n",
       "<title>1946940844160&#45;&gt;1946940842960*</title>\n",
       "<path fill=\"none\" stroke=\"black\" d=\"M196.05,-73.5C206.52,-73.5 216.65,-73.5 225.71,-73.5\"/>\n",
       "<polygon fill=\"black\" stroke=\"black\" points=\"225.79,-77 235.79,-73.5 225.79,-70 225.79,-77\"/>\n",
       "</g>\n",
       "<!-- 1946940846032 -->\n",
       "<g id=\"node6\" class=\"node\">\n",
       "<title>1946940846032</title>\n",
       "<polygon fill=\"none\" stroke=\"black\" points=\"2,-165.5 2,-201.5 198,-201.5 198,-165.5 2,-165.5\"/>\n",
       "<text text-anchor=\"middle\" x=\"17\" y=\"-179.8\" font-family=\"Times New Roman,serif\" font-size=\"14.00\">x1</text>\n",
       "<polyline fill=\"none\" stroke=\"black\" points=\"32,-165.5 32,-201.5 \"/>\n",
       "<text text-anchor=\"middle\" x=\"72\" y=\"-179.8\" font-family=\"Times New Roman,serif\" font-size=\"14.00\">data 2.0000</text>\n",
       "<polyline fill=\"none\" stroke=\"black\" points=\"112,-165.5 112,-201.5 \"/>\n",
       "<text text-anchor=\"middle\" x=\"155\" y=\"-179.8\" font-family=\"Times New Roman,serif\" font-size=\"14.00\">grad &#45;1.5000</text>\n",
       "</g>\n",
       "<!-- 1946940846032&#45;&gt;1946940842096* -->\n",
       "<g id=\"edge8\" class=\"edge\">\n",
       "<title>1946940846032&#45;&gt;1946940842096*</title>\n",
       "<path fill=\"none\" stroke=\"black\" d=\"M172.53,-165.44C181.84,-162.67 191.2,-159.67 200,-156.5 210.53,-152.71 221.75,-147.9 231.72,-143.33\"/>\n",
       "<polygon fill=\"black\" stroke=\"black\" points=\"233.25,-146.48 240.82,-139.07 230.28,-140.14 233.25,-146.48\"/>\n",
       "</g>\n",
       "<!-- 1946940843680 -->\n",
       "<g id=\"node7\" class=\"node\">\n",
       "<title>1946940843680</title>\n",
       "<polygon fill=\"none\" stroke=\"black\" points=\"1347,-54.5 1347,-90.5 1532,-90.5 1532,-54.5 1347,-54.5\"/>\n",
       "<text text-anchor=\"middle\" x=\"1358.5\" y=\"-68.8\" font-family=\"Times New Roman,serif\" font-size=\"14.00\">o</text>\n",
       "<polyline fill=\"none\" stroke=\"black\" points=\"1370,-54.5 1370,-90.5 \"/>\n",
       "<text text-anchor=\"middle\" x=\"1410\" y=\"-68.8\" font-family=\"Times New Roman,serif\" font-size=\"14.00\">data 0.7071</text>\n",
       "<polyline fill=\"none\" stroke=\"black\" points=\"1450,-54.5 1450,-90.5 \"/>\n",
       "<text text-anchor=\"middle\" x=\"1491\" y=\"-68.8\" font-family=\"Times New Roman,serif\" font-size=\"14.00\">grad 1.0000</text>\n",
       "</g>\n",
       "<!-- 1946940843680tanh&#45;&gt;1946940843680 -->\n",
       "<g id=\"edge3\" class=\"edge\">\n",
       "<title>1946940843680tanh&#45;&gt;1946940843680</title>\n",
       "<path fill=\"none\" stroke=\"black\" d=\"M1311.04,-72.5C1318.58,-72.5 1327.3,-72.5 1336.57,-72.5\"/>\n",
       "<polygon fill=\"black\" stroke=\"black\" points=\"1336.81,-76 1346.81,-72.5 1336.81,-69 1336.81,-76\"/>\n",
       "</g>\n",
       "<!-- 1946940842144 -->\n",
       "<g id=\"node9\" class=\"node\">\n",
       "<title>1946940842144</title>\n",
       "<polygon fill=\"none\" stroke=\"black\" points=\"666,-82.5 666,-118.5 910,-118.5 910,-82.5 666,-82.5\"/>\n",
       "<text text-anchor=\"middle\" x=\"704.5\" y=\"-96.8\" font-family=\"Times New Roman,serif\" font-size=\"14.00\">x1w1x2w2</text>\n",
       "<polyline fill=\"none\" stroke=\"black\" points=\"743,-82.5 743,-118.5 \"/>\n",
       "<text text-anchor=\"middle\" x=\"785.5\" y=\"-96.8\" font-family=\"Times New Roman,serif\" font-size=\"14.00\">data &#45;6.0000</text>\n",
       "<polyline fill=\"none\" stroke=\"black\" points=\"828,-82.5 828,-118.5 \"/>\n",
       "<text text-anchor=\"middle\" x=\"869\" y=\"-96.8\" font-family=\"Times New Roman,serif\" font-size=\"14.00\">grad 0.5000</text>\n",
       "</g>\n",
       "<!-- 1946940842144&#45;&gt;1946940842048+ -->\n",
       "<g id=\"edge12\" class=\"edge\">\n",
       "<title>1946940842144&#45;&gt;1946940842048+</title>\n",
       "<path fill=\"none\" stroke=\"black\" d=\"M906.71,-82.49C917.38,-80.86 927.53,-79.3 936.51,-77.93\"/>\n",
       "<polygon fill=\"black\" stroke=\"black\" points=\"937.13,-81.38 946.48,-76.4 936.07,-74.46 937.13,-81.38\"/>\n",
       "</g>\n",
       "<!-- 1946940842144+&#45;&gt;1946940842144 -->\n",
       "<g id=\"edge4\" class=\"edge\">\n",
       "<title>1946940842144+&#45;&gt;1946940842144</title>\n",
       "<path fill=\"none\" stroke=\"black\" d=\"M630.22,-100.5C637.7,-100.5 646.4,-100.5 655.79,-100.5\"/>\n",
       "<polygon fill=\"black\" stroke=\"black\" points=\"655.8,-104 665.8,-100.5 655.8,-97 655.8,-104\"/>\n",
       "</g>\n",
       "<!-- 1946940843920 -->\n",
       "<g id=\"node11\" class=\"node\">\n",
       "<title>1946940843920</title>\n",
       "<polygon fill=\"none\" stroke=\"black\" points=\"2.5,-0.5 2.5,-36.5 197.5,-36.5 197.5,-0.5 2.5,-0.5\"/>\n",
       "<text text-anchor=\"middle\" x=\"19\" y=\"-14.8\" font-family=\"Times New Roman,serif\" font-size=\"14.00\">w2</text>\n",
       "<polyline fill=\"none\" stroke=\"black\" points=\"35.5,-0.5 35.5,-36.5 \"/>\n",
       "<text text-anchor=\"middle\" x=\"75.5\" y=\"-14.8\" font-family=\"Times New Roman,serif\" font-size=\"14.00\">data 1.0000</text>\n",
       "<polyline fill=\"none\" stroke=\"black\" points=\"115.5,-0.5 115.5,-36.5 \"/>\n",
       "<text text-anchor=\"middle\" x=\"156.5\" y=\"-14.8\" font-family=\"Times New Roman,serif\" font-size=\"14.00\">grad 0.0000</text>\n",
       "</g>\n",
       "<!-- 1946940843920&#45;&gt;1946940842960* -->\n",
       "<g id=\"edge6\" class=\"edge\">\n",
       "<title>1946940843920&#45;&gt;1946940842960*</title>\n",
       "<path fill=\"none\" stroke=\"black\" d=\"M172.53,-36.56C181.84,-39.33 191.2,-42.33 200,-45.5 210.53,-49.29 221.75,-54.1 231.72,-58.67\"/>\n",
       "<polygon fill=\"black\" stroke=\"black\" points=\"230.28,-61.86 240.82,-62.93 233.25,-55.52 230.28,-61.86\"/>\n",
       "</g>\n",
       "<!-- 1946940844448 -->\n",
       "<g id=\"node12\" class=\"node\">\n",
       "<title>1946940844448</title>\n",
       "<polygon fill=\"none\" stroke=\"black\" points=\"695.5,-27.5 695.5,-63.5 880.5,-63.5 880.5,-27.5 695.5,-27.5\"/>\n",
       "<text text-anchor=\"middle\" x=\"707\" y=\"-41.8\" font-family=\"Times New Roman,serif\" font-size=\"14.00\">b</text>\n",
       "<polyline fill=\"none\" stroke=\"black\" points=\"718.5,-27.5 718.5,-63.5 \"/>\n",
       "<text text-anchor=\"middle\" x=\"758.5\" y=\"-41.8\" font-family=\"Times New Roman,serif\" font-size=\"14.00\">data 6.8814</text>\n",
       "<polyline fill=\"none\" stroke=\"black\" points=\"798.5,-27.5 798.5,-63.5 \"/>\n",
       "<text text-anchor=\"middle\" x=\"839.5\" y=\"-41.8\" font-family=\"Times New Roman,serif\" font-size=\"14.00\">grad 0.5000</text>\n",
       "</g>\n",
       "<!-- 1946940844448&#45;&gt;1946940842048+ -->\n",
       "<g id=\"edge7\" class=\"edge\">\n",
       "<title>1946940844448&#45;&gt;1946940842048+</title>\n",
       "<path fill=\"none\" stroke=\"black\" d=\"M880.77,-59.04C900.52,-61.95 920.26,-64.87 936.29,-67.23\"/>\n",
       "<polygon fill=\"black\" stroke=\"black\" points=\"935.86,-70.71 946.26,-68.7 936.88,-63.78 935.86,-70.71\"/>\n",
       "</g>\n",
       "<!-- 1946940842960 -->\n",
       "<g id=\"node13\" class=\"node\">\n",
       "<title>1946940842960</title>\n",
       "<polygon fill=\"none\" stroke=\"black\" points=\"328.5,-55.5 328.5,-91.5 537.5,-91.5 537.5,-55.5 328.5,-55.5\"/>\n",
       "<text text-anchor=\"middle\" x=\"352\" y=\"-69.8\" font-family=\"Times New Roman,serif\" font-size=\"14.00\">x2w2</text>\n",
       "<polyline fill=\"none\" stroke=\"black\" points=\"375.5,-55.5 375.5,-91.5 \"/>\n",
       "<text text-anchor=\"middle\" x=\"415.5\" y=\"-69.8\" font-family=\"Times New Roman,serif\" font-size=\"14.00\">data 0.0000</text>\n",
       "<polyline fill=\"none\" stroke=\"black\" points=\"455.5,-55.5 455.5,-91.5 \"/>\n",
       "<text text-anchor=\"middle\" x=\"496.5\" y=\"-69.8\" font-family=\"Times New Roman,serif\" font-size=\"14.00\">grad 0.5000</text>\n",
       "</g>\n",
       "<!-- 1946940842960&#45;&gt;1946940842144+ -->\n",
       "<g id=\"edge11\" class=\"edge\">\n",
       "<title>1946940842960&#45;&gt;1946940842144+</title>\n",
       "<path fill=\"none\" stroke=\"black\" d=\"M537.53,-90.14C547.8,-91.79 557.66,-93.37 566.45,-94.79\"/>\n",
       "<polygon fill=\"black\" stroke=\"black\" points=\"566.16,-98.28 576.59,-96.42 567.27,-91.37 566.16,-98.28\"/>\n",
       "</g>\n",
       "<!-- 1946940842960*&#45;&gt;1946940842960 -->\n",
       "<g id=\"edge5\" class=\"edge\">\n",
       "<title>1946940842960*&#45;&gt;1946940842960</title>\n",
       "<path fill=\"none\" stroke=\"black\" d=\"M290.25,-73.5C298.43,-73.5 308.03,-73.5 318.31,-73.5\"/>\n",
       "<polygon fill=\"black\" stroke=\"black\" points=\"318.35,-77 328.35,-73.5 318.35,-70 318.35,-77\"/>\n",
       "</g>\n",
       "<!-- 1946940844016 -->\n",
       "<g id=\"node15\" class=\"node\">\n",
       "<title>1946940844016</title>\n",
       "<polygon fill=\"none\" stroke=\"black\" points=\"0,-110.5 0,-146.5 200,-146.5 200,-110.5 0,-110.5\"/>\n",
       "<text text-anchor=\"middle\" x=\"16.5\" y=\"-124.8\" font-family=\"Times New Roman,serif\" font-size=\"14.00\">w1</text>\n",
       "<polyline fill=\"none\" stroke=\"black\" points=\"33,-110.5 33,-146.5 \"/>\n",
       "<text text-anchor=\"middle\" x=\"75.5\" y=\"-124.8\" font-family=\"Times New Roman,serif\" font-size=\"14.00\">data &#45;3.0000</text>\n",
       "<polyline fill=\"none\" stroke=\"black\" points=\"118,-110.5 118,-146.5 \"/>\n",
       "<text text-anchor=\"middle\" x=\"159\" y=\"-124.8\" font-family=\"Times New Roman,serif\" font-size=\"14.00\">grad 1.0000</text>\n",
       "</g>\n",
       "<!-- 1946940844016&#45;&gt;1946940842096* -->\n",
       "<g id=\"edge10\" class=\"edge\">\n",
       "<title>1946940844016&#45;&gt;1946940842096*</title>\n",
       "<path fill=\"none\" stroke=\"black\" d=\"M200.21,-128.5C209.2,-128.5 217.86,-128.5 225.7,-128.5\"/>\n",
       "<polygon fill=\"black\" stroke=\"black\" points=\"225.85,-132 235.85,-128.5 225.85,-125 225.85,-132\"/>\n",
       "</g>\n",
       "</g>\n",
       "</svg>\n"
      ],
      "text/plain": [
       "<graphviz.graphs.Digraph at 0x1c54f38fee0>"
      ]
     },
     "execution_count": 13,
     "metadata": {},
     "output_type": "execute_result"
    }
   ],
   "source": [
    "draw_dot(o)"
   ]
  },
  {
   "cell_type": "code",
   "execution_count": 14,
   "id": "f3c47cf6-46eb-44fe-9970-50df6e44c4fa",
   "metadata": {},
   "outputs": [
    {
     "data": {
      "image/svg+xml": [
       "<?xml version=\"1.0\" encoding=\"UTF-8\" standalone=\"no\"?>\n",
       "<!DOCTYPE svg PUBLIC \"-//W3C//DTD SVG 1.1//EN\"\n",
       " \"http://www.w3.org/Graphics/SVG/1.1/DTD/svg11.dtd\">\n",
       "<!-- Generated by graphviz version 2.50.0 (0)\n",
       " -->\n",
       "<!-- Pages: 1 -->\n",
       "<svg width=\"2909pt\" height=\"239pt\"\n",
       " viewBox=\"0.00 0.00 2909.00 239.00\" xmlns=\"http://www.w3.org/2000/svg\" xmlns:xlink=\"http://www.w3.org/1999/xlink\">\n",
       "<g id=\"graph0\" class=\"graph\" transform=\"scale(1 1) rotate(0) translate(4 235)\">\n",
       "<polygon fill=\"white\" stroke=\"transparent\" points=\"-4,4 -4,-235 2905,-235 2905,4 -4,4\"/>\n",
       "<!-- 1946941192704 -->\n",
       "<g id=\"node1\" class=\"node\">\n",
       "<title>1946941192704</title>\n",
       "<polygon fill=\"none\" stroke=\"black\" points=\"0,-194.5 0,-230.5 200,-230.5 200,-194.5 0,-194.5\"/>\n",
       "<text text-anchor=\"middle\" x=\"16.5\" y=\"-208.8\" font-family=\"Times New Roman,serif\" font-size=\"14.00\">w1</text>\n",
       "<polyline fill=\"none\" stroke=\"black\" points=\"33,-194.5 33,-230.5 \"/>\n",
       "<text text-anchor=\"middle\" x=\"75.5\" y=\"-208.8\" font-family=\"Times New Roman,serif\" font-size=\"14.00\">data &#45;3.0000</text>\n",
       "<polyline fill=\"none\" stroke=\"black\" points=\"118,-194.5 118,-230.5 \"/>\n",
       "<text text-anchor=\"middle\" x=\"159\" y=\"-208.8\" font-family=\"Times New Roman,serif\" font-size=\"14.00\">grad 1.0000</text>\n",
       "</g>\n",
       "<!-- 1946941191072* -->\n",
       "<g id=\"node25\" class=\"node\">\n",
       "<title>1946941191072*</title>\n",
       "<ellipse fill=\"none\" stroke=\"black\" cx=\"263\" cy=\"-157.5\" rx=\"27\" ry=\"18\"/>\n",
       "<text text-anchor=\"middle\" x=\"263\" y=\"-153.8\" font-family=\"Times New Roman,serif\" font-size=\"14.00\">*</text>\n",
       "</g>\n",
       "<!-- 1946941192704&#45;&gt;1946941191072* -->\n",
       "<g id=\"edge24\" class=\"edge\">\n",
       "<title>1946941192704&#45;&gt;1946941191072*</title>\n",
       "<path fill=\"none\" stroke=\"black\" d=\"M172.53,-194.44C181.84,-191.67 191.2,-188.67 200,-185.5 210.53,-181.71 221.75,-176.9 231.72,-172.33\"/>\n",
       "<polygon fill=\"black\" stroke=\"black\" points=\"233.25,-175.48 240.82,-168.07 230.28,-169.14 233.25,-175.48\"/>\n",
       "</g>\n",
       "<!-- 1946941192752 -->\n",
       "<g id=\"node2\" class=\"node\">\n",
       "<title>1946941192752</title>\n",
       "<polygon fill=\"none\" stroke=\"black\" points=\"2,-139.5 2,-175.5 198,-175.5 198,-139.5 2,-139.5\"/>\n",
       "<text text-anchor=\"middle\" x=\"17\" y=\"-153.8\" font-family=\"Times New Roman,serif\" font-size=\"14.00\">x1</text>\n",
       "<polyline fill=\"none\" stroke=\"black\" points=\"32,-139.5 32,-175.5 \"/>\n",
       "<text text-anchor=\"middle\" x=\"72\" y=\"-153.8\" font-family=\"Times New Roman,serif\" font-size=\"14.00\">data 2.0000</text>\n",
       "<polyline fill=\"none\" stroke=\"black\" points=\"112,-139.5 112,-175.5 \"/>\n",
       "<text text-anchor=\"middle\" x=\"155\" y=\"-153.8\" font-family=\"Times New Roman,serif\" font-size=\"14.00\">grad &#45;1.5000</text>\n",
       "</g>\n",
       "<!-- 1946941192752&#45;&gt;1946941191072* -->\n",
       "<g id=\"edge15\" class=\"edge\">\n",
       "<title>1946941192752&#45;&gt;1946941191072*</title>\n",
       "<path fill=\"none\" stroke=\"black\" d=\"M198.37,-157.5C208.05,-157.5 217.4,-157.5 225.8,-157.5\"/>\n",
       "<polygon fill=\"black\" stroke=\"black\" points=\"225.91,-161 235.91,-157.5 225.91,-154 225.91,-161\"/>\n",
       "</g>\n",
       "<!-- 1946940833360 -->\n",
       "<g id=\"node3\" class=\"node\">\n",
       "<title>1946940833360</title>\n",
       "<polygon fill=\"none\" stroke=\"black\" points=\"1657.5,-55.5 1657.5,-91.5 1839.5,-91.5 1839.5,-55.5 1657.5,-55.5\"/>\n",
       "<text text-anchor=\"middle\" x=\"1667.5\" y=\"-69.8\" font-family=\"Times New Roman,serif\" font-size=\"14.00\"> </text>\n",
       "<polyline fill=\"none\" stroke=\"black\" points=\"1677.5,-55.5 1677.5,-91.5 \"/>\n",
       "<text text-anchor=\"middle\" x=\"1717.5\" y=\"-69.8\" font-family=\"Times New Roman,serif\" font-size=\"14.00\">data 5.8284</text>\n",
       "<polyline fill=\"none\" stroke=\"black\" points=\"1757.5,-55.5 1757.5,-91.5 \"/>\n",
       "<text text-anchor=\"middle\" x=\"1798.5\" y=\"-69.8\" font-family=\"Times New Roman,serif\" font-size=\"14.00\">grad 0.0429</text>\n",
       "</g>\n",
       "<!-- 1946940831440+ -->\n",
       "<g id=\"node10\" class=\"node\">\n",
       "<title>1946940831440+</title>\n",
       "<ellipse fill=\"none\" stroke=\"black\" cx=\"1905\" cy=\"-100.5\" rx=\"27\" ry=\"18\"/>\n",
       "<text text-anchor=\"middle\" x=\"1905\" y=\"-96.8\" font-family=\"Times New Roman,serif\" font-size=\"14.00\">+</text>\n",
       "</g>\n",
       "<!-- 1946940833360&#45;&gt;1946940831440+ -->\n",
       "<g id=\"edge26\" class=\"edge\">\n",
       "<title>1946940833360&#45;&gt;1946940831440+</title>\n",
       "<path fill=\"none\" stroke=\"black\" d=\"M1839.82,-89.28C1850.07,-91.08 1860.01,-92.81 1868.88,-94.36\"/>\n",
       "<polygon fill=\"black\" stroke=\"black\" points=\"1868.3,-97.81 1878.75,-96.09 1869.5,-90.92 1868.3,-97.81\"/>\n",
       "</g>\n",
       "<!-- 1946940830528+ -->\n",
       "<g id=\"node18\" class=\"node\">\n",
       "<title>1946940830528+</title>\n",
       "<ellipse fill=\"none\" stroke=\"black\" cx=\"1905\" cy=\"-45.5\" rx=\"27\" ry=\"18\"/>\n",
       "<text text-anchor=\"middle\" x=\"1905\" y=\"-41.8\" font-family=\"Times New Roman,serif\" font-size=\"14.00\">+</text>\n",
       "</g>\n",
       "<!-- 1946940833360&#45;&gt;1946940830528+ -->\n",
       "<g id=\"edge20\" class=\"edge\">\n",
       "<title>1946940833360&#45;&gt;1946940830528+</title>\n",
       "<path fill=\"none\" stroke=\"black\" d=\"M1839.82,-57.13C1850.07,-55.27 1860.01,-53.47 1868.88,-51.87\"/>\n",
       "<polygon fill=\"black\" stroke=\"black\" points=\"1869.54,-55.3 1878.75,-50.08 1868.29,-48.42 1869.54,-55.3\"/>\n",
       "</g>\n",
       "<!-- 1946940833360exp -->\n",
       "<g id=\"node4\" class=\"node\">\n",
       "<title>1946940833360exp</title>\n",
       "<ellipse fill=\"none\" stroke=\"black\" cx=\"1592\" cy=\"-73.5\" rx=\"27\" ry=\"18\"/>\n",
       "<text text-anchor=\"middle\" x=\"1592\" y=\"-69.8\" font-family=\"Times New Roman,serif\" font-size=\"14.00\">exp</text>\n",
       "</g>\n",
       "<!-- 1946940833360exp&#45;&gt;1946940833360 -->\n",
       "<g id=\"edge1\" class=\"edge\">\n",
       "<title>1946940833360exp&#45;&gt;1946940833360</title>\n",
       "<path fill=\"none\" stroke=\"black\" d=\"M1619.21,-73.5C1627.34,-73.5 1636.85,-73.5 1646.94,-73.5\"/>\n",
       "<polygon fill=\"black\" stroke=\"black\" points=\"1647.19,-77 1657.19,-73.5 1647.19,-70 1647.19,-77\"/>\n",
       "</g>\n",
       "<!-- 1946941191264 -->\n",
       "<g id=\"node5\" class=\"node\">\n",
       "<title>1946941191264</title>\n",
       "<polygon fill=\"none\" stroke=\"black\" points=\"328.5,-84.5 328.5,-120.5 537.5,-120.5 537.5,-84.5 328.5,-84.5\"/>\n",
       "<text text-anchor=\"middle\" x=\"352\" y=\"-98.8\" font-family=\"Times New Roman,serif\" font-size=\"14.00\">x2w2</text>\n",
       "<polyline fill=\"none\" stroke=\"black\" points=\"375.5,-84.5 375.5,-120.5 \"/>\n",
       "<text text-anchor=\"middle\" x=\"415.5\" y=\"-98.8\" font-family=\"Times New Roman,serif\" font-size=\"14.00\">data 0.0000</text>\n",
       "<polyline fill=\"none\" stroke=\"black\" points=\"455.5,-84.5 455.5,-120.5 \"/>\n",
       "<text text-anchor=\"middle\" x=\"496.5\" y=\"-98.8\" font-family=\"Times New Roman,serif\" font-size=\"14.00\">grad 0.5000</text>\n",
       "</g>\n",
       "<!-- 1946940830480+ -->\n",
       "<g id=\"node16\" class=\"node\">\n",
       "<title>1946940830480+</title>\n",
       "<ellipse fill=\"none\" stroke=\"black\" cx=\"603\" cy=\"-129.5\" rx=\"27\" ry=\"18\"/>\n",
       "<text text-anchor=\"middle\" x=\"603\" y=\"-125.8\" font-family=\"Times New Roman,serif\" font-size=\"14.00\">+</text>\n",
       "</g>\n",
       "<!-- 1946941191264&#45;&gt;1946940830480+ -->\n",
       "<g id=\"edge16\" class=\"edge\">\n",
       "<title>1946941191264&#45;&gt;1946940830480+</title>\n",
       "<path fill=\"none\" stroke=\"black\" d=\"M537.53,-119.14C547.8,-120.79 557.66,-122.37 566.45,-123.79\"/>\n",
       "<polygon fill=\"black\" stroke=\"black\" points=\"566.16,-127.28 576.59,-125.42 567.27,-120.37 566.16,-127.28\"/>\n",
       "</g>\n",
       "<!-- 1946941191264* -->\n",
       "<g id=\"node6\" class=\"node\">\n",
       "<title>1946941191264*</title>\n",
       "<ellipse fill=\"none\" stroke=\"black\" cx=\"263\" cy=\"-102.5\" rx=\"27\" ry=\"18\"/>\n",
       "<text text-anchor=\"middle\" x=\"263\" y=\"-98.8\" font-family=\"Times New Roman,serif\" font-size=\"14.00\">*</text>\n",
       "</g>\n",
       "<!-- 1946941191264*&#45;&gt;1946941191264 -->\n",
       "<g id=\"edge2\" class=\"edge\">\n",
       "<title>1946941191264*&#45;&gt;1946941191264</title>\n",
       "<path fill=\"none\" stroke=\"black\" d=\"M290.25,-102.5C298.43,-102.5 308.03,-102.5 318.31,-102.5\"/>\n",
       "<polygon fill=\"black\" stroke=\"black\" points=\"318.35,-106 328.35,-102.5 318.35,-99 318.35,-106\"/>\n",
       "</g>\n",
       "<!-- 1946940832880 -->\n",
       "<g id=\"node7\" class=\"node\">\n",
       "<title>1946940832880</title>\n",
       "<polygon fill=\"none\" stroke=\"black\" points=\"1347,-55.5 1347,-91.5 1529,-91.5 1529,-55.5 1347,-55.5\"/>\n",
       "<text text-anchor=\"middle\" x=\"1357\" y=\"-69.8\" font-family=\"Times New Roman,serif\" font-size=\"14.00\"> </text>\n",
       "<polyline fill=\"none\" stroke=\"black\" points=\"1367,-55.5 1367,-91.5 \"/>\n",
       "<text text-anchor=\"middle\" x=\"1407\" y=\"-69.8\" font-family=\"Times New Roman,serif\" font-size=\"14.00\">data 1.7627</text>\n",
       "<polyline fill=\"none\" stroke=\"black\" points=\"1447,-55.5 1447,-91.5 \"/>\n",
       "<text text-anchor=\"middle\" x=\"1488\" y=\"-69.8\" font-family=\"Times New Roman,serif\" font-size=\"14.00\">grad 0.2500</text>\n",
       "</g>\n",
       "<!-- 1946940832880&#45;&gt;1946940833360exp -->\n",
       "<g id=\"edge27\" class=\"edge\">\n",
       "<title>1946940832880&#45;&gt;1946940833360exp</title>\n",
       "<path fill=\"none\" stroke=\"black\" d=\"M1529.18,-73.5C1538.14,-73.5 1546.83,-73.5 1554.73,-73.5\"/>\n",
       "<polygon fill=\"black\" stroke=\"black\" points=\"1554.96,-77 1564.96,-73.5 1554.96,-70 1554.96,-77\"/>\n",
       "</g>\n",
       "<!-- 1946940832880* -->\n",
       "<g id=\"node8\" class=\"node\">\n",
       "<title>1946940832880*</title>\n",
       "<ellipse fill=\"none\" stroke=\"black\" cx=\"1284\" cy=\"-73.5\" rx=\"27\" ry=\"18\"/>\n",
       "<text text-anchor=\"middle\" x=\"1284\" y=\"-69.8\" font-family=\"Times New Roman,serif\" font-size=\"14.00\">*</text>\n",
       "</g>\n",
       "<!-- 1946940832880*&#45;&gt;1946940832880 -->\n",
       "<g id=\"edge3\" class=\"edge\">\n",
       "<title>1946940832880*&#45;&gt;1946940832880</title>\n",
       "<path fill=\"none\" stroke=\"black\" d=\"M1311.13,-73.5C1318.67,-73.5 1327.39,-73.5 1336.64,-73.5\"/>\n",
       "<polygon fill=\"black\" stroke=\"black\" points=\"1336.87,-77 1346.87,-73.5 1336.87,-70 1336.87,-77\"/>\n",
       "</g>\n",
       "<!-- 1946940831440 -->\n",
       "<g id=\"node9\" class=\"node\">\n",
       "<title>1946940831440</title>\n",
       "<polygon fill=\"none\" stroke=\"black\" points=\"2190,-82.5 2190,-118.5 2372,-118.5 2372,-82.5 2190,-82.5\"/>\n",
       "<text text-anchor=\"middle\" x=\"2200\" y=\"-96.8\" font-family=\"Times New Roman,serif\" font-size=\"14.00\"> </text>\n",
       "<polyline fill=\"none\" stroke=\"black\" points=\"2210,-82.5 2210,-118.5 \"/>\n",
       "<text text-anchor=\"middle\" x=\"2250\" y=\"-96.8\" font-family=\"Times New Roman,serif\" font-size=\"14.00\">data 4.8284</text>\n",
       "<polyline fill=\"none\" stroke=\"black\" points=\"2290,-82.5 2290,-118.5 \"/>\n",
       "<text text-anchor=\"middle\" x=\"2331\" y=\"-96.8\" font-family=\"Times New Roman,serif\" font-size=\"14.00\">grad 0.1464</text>\n",
       "</g>\n",
       "<!-- 1946940832640* -->\n",
       "<g id=\"node22\" class=\"node\">\n",
       "<title>1946940832640*</title>\n",
       "<ellipse fill=\"none\" stroke=\"black\" cx=\"2653\" cy=\"-72.5\" rx=\"27\" ry=\"18\"/>\n",
       "<text text-anchor=\"middle\" x=\"2653\" y=\"-68.8\" font-family=\"Times New Roman,serif\" font-size=\"14.00\">*</text>\n",
       "</g>\n",
       "<!-- 1946940831440&#45;&gt;1946940832640* -->\n",
       "<g id=\"edge21\" class=\"edge\">\n",
       "<title>1946940831440&#45;&gt;1946940832640*</title>\n",
       "<path fill=\"none\" stroke=\"black\" d=\"M2372.31,-93.9C2433.7,-89.37 2516.76,-83.19 2590,-77.5 2598.42,-76.85 2607.48,-76.13 2616.01,-75.44\"/>\n",
       "<polygon fill=\"black\" stroke=\"black\" points=\"2616.37,-78.92 2626.06,-74.63 2615.81,-71.94 2616.37,-78.92\"/>\n",
       "</g>\n",
       "<!-- 1946940831440+&#45;&gt;1946940831440 -->\n",
       "<g id=\"edge4\" class=\"edge\">\n",
       "<title>1946940831440+&#45;&gt;1946940831440</title>\n",
       "<path fill=\"none\" stroke=\"black\" d=\"M1932,-100.5C1982.46,-100.5 2096.06,-100.5 2179.81,-100.5\"/>\n",
       "<polygon fill=\"black\" stroke=\"black\" points=\"2179.87,-104 2189.87,-100.5 2179.87,-97 2179.87,-104\"/>\n",
       "</g>\n",
       "<!-- 1946940832976 -->\n",
       "<g id=\"node11\" class=\"node\">\n",
       "<title>1946940832976</title>\n",
       "<polygon fill=\"none\" stroke=\"black\" points=\"1036,-83.5 1036,-119.5 1221,-119.5 1221,-83.5 1036,-83.5\"/>\n",
       "<text text-anchor=\"middle\" x=\"1047.5\" y=\"-97.8\" font-family=\"Times New Roman,serif\" font-size=\"14.00\">n</text>\n",
       "<polyline fill=\"none\" stroke=\"black\" points=\"1059,-83.5 1059,-119.5 \"/>\n",
       "<text text-anchor=\"middle\" x=\"1099\" y=\"-97.8\" font-family=\"Times New Roman,serif\" font-size=\"14.00\">data 0.8814</text>\n",
       "<polyline fill=\"none\" stroke=\"black\" points=\"1139,-83.5 1139,-119.5 \"/>\n",
       "<text text-anchor=\"middle\" x=\"1180\" y=\"-97.8\" font-family=\"Times New Roman,serif\" font-size=\"14.00\">grad 0.5000</text>\n",
       "</g>\n",
       "<!-- 1946940832976&#45;&gt;1946940832880* -->\n",
       "<g id=\"edge22\" class=\"edge\">\n",
       "<title>1946940832976&#45;&gt;1946940832880*</title>\n",
       "<path fill=\"none\" stroke=\"black\" d=\"M1221.01,-84.81C1230.49,-83.08 1239.66,-81.41 1247.9,-79.9\"/>\n",
       "<polygon fill=\"black\" stroke=\"black\" points=\"1248.6,-83.33 1257.81,-78.09 1247.35,-76.45 1248.6,-83.33\"/>\n",
       "</g>\n",
       "<!-- 1946940832976+ -->\n",
       "<g id=\"node12\" class=\"node\">\n",
       "<title>1946940832976+</title>\n",
       "<ellipse fill=\"none\" stroke=\"black\" cx=\"973\" cy=\"-101.5\" rx=\"27\" ry=\"18\"/>\n",
       "<text text-anchor=\"middle\" x=\"973\" y=\"-97.8\" font-family=\"Times New Roman,serif\" font-size=\"14.00\">+</text>\n",
       "</g>\n",
       "<!-- 1946940832976+&#45;&gt;1946940832976 -->\n",
       "<g id=\"edge5\" class=\"edge\">\n",
       "<title>1946940832976+&#45;&gt;1946940832976</title>\n",
       "<path fill=\"none\" stroke=\"black\" d=\"M1000.04,-101.5C1007.58,-101.5 1016.3,-101.5 1025.57,-101.5\"/>\n",
       "<polygon fill=\"black\" stroke=\"black\" points=\"1025.81,-105 1035.81,-101.5 1025.81,-98 1025.81,-105\"/>\n",
       "</g>\n",
       "<!-- 1946940831968 -->\n",
       "<g id=\"node13\" class=\"node\">\n",
       "<title>1946940831968</title>\n",
       "<polygon fill=\"none\" stroke=\"black\" points=\"2408,-31.5 2408,-67.5 2590,-67.5 2590,-31.5 2408,-31.5\"/>\n",
       "<text text-anchor=\"middle\" x=\"2418\" y=\"-45.8\" font-family=\"Times New Roman,serif\" font-size=\"14.00\"> </text>\n",
       "<polyline fill=\"none\" stroke=\"black\" points=\"2428,-31.5 2428,-67.5 \"/>\n",
       "<text text-anchor=\"middle\" x=\"2468\" y=\"-45.8\" font-family=\"Times New Roman,serif\" font-size=\"14.00\">data 0.1464</text>\n",
       "<polyline fill=\"none\" stroke=\"black\" points=\"2508,-31.5 2508,-67.5 \"/>\n",
       "<text text-anchor=\"middle\" x=\"2549\" y=\"-45.8\" font-family=\"Times New Roman,serif\" font-size=\"14.00\">grad 4.8284</text>\n",
       "</g>\n",
       "<!-- 1946940831968&#45;&gt;1946940832640* -->\n",
       "<g id=\"edge17\" class=\"edge\">\n",
       "<title>1946940831968&#45;&gt;1946940832640*</title>\n",
       "<path fill=\"none\" stroke=\"black\" d=\"M2590.18,-63.15C2599.42,-64.54 2608.38,-65.9 2616.47,-67.12\"/>\n",
       "<polygon fill=\"black\" stroke=\"black\" points=\"2616.15,-70.61 2626.56,-68.65 2617.19,-63.69 2616.15,-70.61\"/>\n",
       "</g>\n",
       "<!-- 1946940831968**&#45;1 -->\n",
       "<g id=\"node14\" class=\"node\">\n",
       "<title>1946940831968**&#45;1</title>\n",
       "<ellipse fill=\"none\" stroke=\"black\" cx=\"2281\" cy=\"-45.5\" rx=\"27\" ry=\"18\"/>\n",
       "<text text-anchor=\"middle\" x=\"2281\" y=\"-41.8\" font-family=\"Times New Roman,serif\" font-size=\"14.00\">**&#45;1</text>\n",
       "</g>\n",
       "<!-- 1946940831968**&#45;1&#45;&gt;1946940831968 -->\n",
       "<g id=\"edge6\" class=\"edge\">\n",
       "<title>1946940831968**&#45;1&#45;&gt;1946940831968</title>\n",
       "<path fill=\"none\" stroke=\"black\" d=\"M2308.05,-45.98C2330.53,-46.4 2364.48,-47.03 2397.5,-47.64\"/>\n",
       "<polygon fill=\"black\" stroke=\"black\" points=\"2397.64,-51.14 2407.7,-47.83 2397.77,-44.14 2397.64,-51.14\"/>\n",
       "</g>\n",
       "<!-- 1946940830480 -->\n",
       "<g id=\"node15\" class=\"node\">\n",
       "<title>1946940830480</title>\n",
       "<polygon fill=\"none\" stroke=\"black\" points=\"666,-111.5 666,-147.5 910,-147.5 910,-111.5 666,-111.5\"/>\n",
       "<text text-anchor=\"middle\" x=\"704.5\" y=\"-125.8\" font-family=\"Times New Roman,serif\" font-size=\"14.00\">x1w1x2w2</text>\n",
       "<polyline fill=\"none\" stroke=\"black\" points=\"743,-111.5 743,-147.5 \"/>\n",
       "<text text-anchor=\"middle\" x=\"785.5\" y=\"-125.8\" font-family=\"Times New Roman,serif\" font-size=\"14.00\">data &#45;6.0000</text>\n",
       "<polyline fill=\"none\" stroke=\"black\" points=\"828,-111.5 828,-147.5 \"/>\n",
       "<text text-anchor=\"middle\" x=\"869\" y=\"-125.8\" font-family=\"Times New Roman,serif\" font-size=\"14.00\">grad 0.5000</text>\n",
       "</g>\n",
       "<!-- 1946940830480&#45;&gt;1946940832976+ -->\n",
       "<g id=\"edge12\" class=\"edge\">\n",
       "<title>1946940830480&#45;&gt;1946940832976+</title>\n",
       "<path fill=\"none\" stroke=\"black\" d=\"M906.71,-111.49C917.38,-109.86 927.53,-108.3 936.51,-106.93\"/>\n",
       "<polygon fill=\"black\" stroke=\"black\" points=\"937.13,-110.38 946.48,-105.4 936.07,-103.46 937.13,-110.38\"/>\n",
       "</g>\n",
       "<!-- 1946940830480+&#45;&gt;1946940830480 -->\n",
       "<g id=\"edge7\" class=\"edge\">\n",
       "<title>1946940830480+&#45;&gt;1946940830480</title>\n",
       "<path fill=\"none\" stroke=\"black\" d=\"M630.22,-129.5C637.7,-129.5 646.4,-129.5 655.79,-129.5\"/>\n",
       "<polygon fill=\"black\" stroke=\"black\" points=\"655.8,-133 665.8,-129.5 655.8,-126 655.8,-133\"/>\n",
       "</g>\n",
       "<!-- 1946940830528 -->\n",
       "<g id=\"node17\" class=\"node\">\n",
       "<title>1946940830528</title>\n",
       "<polygon fill=\"none\" stroke=\"black\" points=\"1968,-27.5 1968,-63.5 2154,-63.5 2154,-27.5 1968,-27.5\"/>\n",
       "<text text-anchor=\"middle\" x=\"1978\" y=\"-41.8\" font-family=\"Times New Roman,serif\" font-size=\"14.00\"> </text>\n",
       "<polyline fill=\"none\" stroke=\"black\" points=\"1988,-27.5 1988,-63.5 \"/>\n",
       "<text text-anchor=\"middle\" x=\"2028\" y=\"-41.8\" font-family=\"Times New Roman,serif\" font-size=\"14.00\">data 6.8284</text>\n",
       "<polyline fill=\"none\" stroke=\"black\" points=\"2068,-27.5 2068,-63.5 \"/>\n",
       "<text text-anchor=\"middle\" x=\"2111\" y=\"-41.8\" font-family=\"Times New Roman,serif\" font-size=\"14.00\">grad &#45;0.1036</text>\n",
       "</g>\n",
       "<!-- 1946940830528&#45;&gt;1946940831968**&#45;1 -->\n",
       "<g id=\"edge18\" class=\"edge\">\n",
       "<title>1946940830528&#45;&gt;1946940831968**&#45;1</title>\n",
       "<path fill=\"none\" stroke=\"black\" d=\"M2154.14,-45.5C2185.72,-45.5 2219.24,-45.5 2243.74,-45.5\"/>\n",
       "<polygon fill=\"black\" stroke=\"black\" points=\"2243.98,-49 2253.98,-45.5 2243.98,-42 2243.98,-49\"/>\n",
       "</g>\n",
       "<!-- 1946940830528+&#45;&gt;1946940830528 -->\n",
       "<g id=\"edge8\" class=\"edge\">\n",
       "<title>1946940830528+&#45;&gt;1946940830528</title>\n",
       "<path fill=\"none\" stroke=\"black\" d=\"M1932.12,-45.5C1939.62,-45.5 1948.29,-45.5 1957.5,-45.5\"/>\n",
       "<polygon fill=\"black\" stroke=\"black\" points=\"1957.69,-49 1967.69,-45.5 1957.69,-42 1957.69,-49\"/>\n",
       "</g>\n",
       "<!-- 1946941193568 -->\n",
       "<g id=\"node19\" class=\"node\">\n",
       "<title>1946941193568</title>\n",
       "<polygon fill=\"none\" stroke=\"black\" points=\"2.5,-84.5 2.5,-120.5 197.5,-120.5 197.5,-84.5 2.5,-84.5\"/>\n",
       "<text text-anchor=\"middle\" x=\"19\" y=\"-98.8\" font-family=\"Times New Roman,serif\" font-size=\"14.00\">w2</text>\n",
       "<polyline fill=\"none\" stroke=\"black\" points=\"35.5,-84.5 35.5,-120.5 \"/>\n",
       "<text text-anchor=\"middle\" x=\"75.5\" y=\"-98.8\" font-family=\"Times New Roman,serif\" font-size=\"14.00\">data 1.0000</text>\n",
       "<polyline fill=\"none\" stroke=\"black\" points=\"115.5,-84.5 115.5,-120.5 \"/>\n",
       "<text text-anchor=\"middle\" x=\"156.5\" y=\"-98.8\" font-family=\"Times New Roman,serif\" font-size=\"14.00\">grad 0.0000</text>\n",
       "</g>\n",
       "<!-- 1946941193568&#45;&gt;1946941191264* -->\n",
       "<g id=\"edge23\" class=\"edge\">\n",
       "<title>1946941193568&#45;&gt;1946941191264*</title>\n",
       "<path fill=\"none\" stroke=\"black\" d=\"M197.91,-102.5C207.65,-102.5 217.05,-102.5 225.52,-102.5\"/>\n",
       "<polygon fill=\"black\" stroke=\"black\" points=\"225.7,-106 235.7,-102.5 225.7,-99 225.7,-106\"/>\n",
       "</g>\n",
       "<!-- 1946940830048 -->\n",
       "<g id=\"node20\" class=\"node\">\n",
       "<title>1946940830048</title>\n",
       "<polygon fill=\"none\" stroke=\"black\" points=\"1037.5,-28.5 1037.5,-64.5 1219.5,-64.5 1219.5,-28.5 1037.5,-28.5\"/>\n",
       "<text text-anchor=\"middle\" x=\"1047.5\" y=\"-42.8\" font-family=\"Times New Roman,serif\" font-size=\"14.00\"> </text>\n",
       "<polyline fill=\"none\" stroke=\"black\" points=\"1057.5,-28.5 1057.5,-64.5 \"/>\n",
       "<text text-anchor=\"middle\" x=\"1097.5\" y=\"-42.8\" font-family=\"Times New Roman,serif\" font-size=\"14.00\">data 2.0000</text>\n",
       "<polyline fill=\"none\" stroke=\"black\" points=\"1137.5,-28.5 1137.5,-64.5 \"/>\n",
       "<text text-anchor=\"middle\" x=\"1178.5\" y=\"-42.8\" font-family=\"Times New Roman,serif\" font-size=\"14.00\">grad 0.2203</text>\n",
       "</g>\n",
       "<!-- 1946940830048&#45;&gt;1946940832880* -->\n",
       "<g id=\"edge13\" class=\"edge\">\n",
       "<title>1946940830048&#45;&gt;1946940832880*</title>\n",
       "<path fill=\"none\" stroke=\"black\" d=\"M1219.68,-62.36C1229.61,-64.11 1239.23,-65.8 1247.84,-67.32\"/>\n",
       "<polygon fill=\"black\" stroke=\"black\" points=\"1247.36,-70.78 1257.81,-69.07 1248.57,-63.89 1247.36,-70.78\"/>\n",
       "</g>\n",
       "<!-- 1946940832640 -->\n",
       "<g id=\"node21\" class=\"node\">\n",
       "<title>1946940832640</title>\n",
       "<polygon fill=\"none\" stroke=\"black\" points=\"2716,-54.5 2716,-90.5 2901,-90.5 2901,-54.5 2716,-54.5\"/>\n",
       "<text text-anchor=\"middle\" x=\"2727.5\" y=\"-68.8\" font-family=\"Times New Roman,serif\" font-size=\"14.00\">o</text>\n",
       "<polyline fill=\"none\" stroke=\"black\" points=\"2739,-54.5 2739,-90.5 \"/>\n",
       "<text text-anchor=\"middle\" x=\"2779\" y=\"-68.8\" font-family=\"Times New Roman,serif\" font-size=\"14.00\">data 0.7071</text>\n",
       "<polyline fill=\"none\" stroke=\"black\" points=\"2819,-54.5 2819,-90.5 \"/>\n",
       "<text text-anchor=\"middle\" x=\"2860\" y=\"-68.8\" font-family=\"Times New Roman,serif\" font-size=\"14.00\">grad 1.0000</text>\n",
       "</g>\n",
       "<!-- 1946940832640*&#45;&gt;1946940832640 -->\n",
       "<g id=\"edge9\" class=\"edge\">\n",
       "<title>1946940832640*&#45;&gt;1946940832640</title>\n",
       "<path fill=\"none\" stroke=\"black\" d=\"M2680.04,-72.5C2687.58,-72.5 2696.3,-72.5 2705.57,-72.5\"/>\n",
       "<polygon fill=\"black\" stroke=\"black\" points=\"2705.81,-76 2715.81,-72.5 2705.81,-69 2705.81,-76\"/>\n",
       "</g>\n",
       "<!-- 1946941193616 -->\n",
       "<g id=\"node23\" class=\"node\">\n",
       "<title>1946941193616</title>\n",
       "<polygon fill=\"none\" stroke=\"black\" points=\"4,-29.5 4,-65.5 196,-65.5 196,-29.5 4,-29.5\"/>\n",
       "<text text-anchor=\"middle\" x=\"19\" y=\"-43.8\" font-family=\"Times New Roman,serif\" font-size=\"14.00\">x2</text>\n",
       "<polyline fill=\"none\" stroke=\"black\" points=\"34,-29.5 34,-65.5 \"/>\n",
       "<text text-anchor=\"middle\" x=\"74\" y=\"-43.8\" font-family=\"Times New Roman,serif\" font-size=\"14.00\">data 0.0000</text>\n",
       "<polyline fill=\"none\" stroke=\"black\" points=\"114,-29.5 114,-65.5 \"/>\n",
       "<text text-anchor=\"middle\" x=\"155\" y=\"-43.8\" font-family=\"Times New Roman,serif\" font-size=\"14.00\">grad 0.5000</text>\n",
       "</g>\n",
       "<!-- 1946941193616&#45;&gt;1946941191264* -->\n",
       "<g id=\"edge19\" class=\"edge\">\n",
       "<title>1946941193616&#45;&gt;1946941191264*</title>\n",
       "<path fill=\"none\" stroke=\"black\" d=\"M169.28,-65.5C179.65,-68.61 190.16,-71.98 200,-75.5 210.28,-79.17 221.28,-83.74 231.11,-88.07\"/>\n",
       "<polygon fill=\"black\" stroke=\"black\" points=\"229.93,-91.37 240.48,-92.27 232.79,-84.99 229.93,-91.37\"/>\n",
       "</g>\n",
       "<!-- 1946941191072 -->\n",
       "<g id=\"node24\" class=\"node\">\n",
       "<title>1946941191072</title>\n",
       "<polygon fill=\"none\" stroke=\"black\" points=\"326,-139.5 326,-175.5 540,-175.5 540,-139.5 326,-139.5\"/>\n",
       "<text text-anchor=\"middle\" x=\"349.5\" y=\"-153.8\" font-family=\"Times New Roman,serif\" font-size=\"14.00\">x1w1</text>\n",
       "<polyline fill=\"none\" stroke=\"black\" points=\"373,-139.5 373,-175.5 \"/>\n",
       "<text text-anchor=\"middle\" x=\"415.5\" y=\"-153.8\" font-family=\"Times New Roman,serif\" font-size=\"14.00\">data &#45;6.0000</text>\n",
       "<polyline fill=\"none\" stroke=\"black\" points=\"458,-139.5 458,-175.5 \"/>\n",
       "<text text-anchor=\"middle\" x=\"499\" y=\"-153.8\" font-family=\"Times New Roman,serif\" font-size=\"14.00\">grad 0.5000</text>\n",
       "</g>\n",
       "<!-- 1946941191072&#45;&gt;1946940830480+ -->\n",
       "<g id=\"edge25\" class=\"edge\">\n",
       "<title>1946941191072&#45;&gt;1946940830480+</title>\n",
       "<path fill=\"none\" stroke=\"black\" d=\"M540.4,-139.77C549.72,-138.21 558.65,-136.72 566.68,-135.39\"/>\n",
       "<polygon fill=\"black\" stroke=\"black\" points=\"567.38,-138.82 576.66,-133.72 566.22,-131.91 567.38,-138.82\"/>\n",
       "</g>\n",
       "<!-- 1946941191072*&#45;&gt;1946941191072 -->\n",
       "<g id=\"edge10\" class=\"edge\">\n",
       "<title>1946941191072*&#45;&gt;1946941191072</title>\n",
       "<path fill=\"none\" stroke=\"black\" d=\"M290.25,-157.5C297.7,-157.5 306.34,-157.5 315.59,-157.5\"/>\n",
       "<polygon fill=\"black\" stroke=\"black\" points=\"315.84,-161 325.84,-157.5 315.84,-154 315.84,-161\"/>\n",
       "</g>\n",
       "<!-- 1946940833120 -->\n",
       "<g id=\"node26\" class=\"node\">\n",
       "<title>1946940833120</title>\n",
       "<polygon fill=\"none\" stroke=\"black\" points=\"1655.5,-0.5 1655.5,-36.5 1841.5,-36.5 1841.5,-0.5 1655.5,-0.5\"/>\n",
       "<text text-anchor=\"middle\" x=\"1665.5\" y=\"-14.8\" font-family=\"Times New Roman,serif\" font-size=\"14.00\"> </text>\n",
       "<polyline fill=\"none\" stroke=\"black\" points=\"1675.5,-0.5 1675.5,-36.5 \"/>\n",
       "<text text-anchor=\"middle\" x=\"1715.5\" y=\"-14.8\" font-family=\"Times New Roman,serif\" font-size=\"14.00\">data 1.0000</text>\n",
       "<polyline fill=\"none\" stroke=\"black\" points=\"1755.5,-0.5 1755.5,-36.5 \"/>\n",
       "<text text-anchor=\"middle\" x=\"1798.5\" y=\"-14.8\" font-family=\"Times New Roman,serif\" font-size=\"14.00\">grad &#45;0.1036</text>\n",
       "</g>\n",
       "<!-- 1946940833120&#45;&gt;1946940830528+ -->\n",
       "<g id=\"edge11\" class=\"edge\">\n",
       "<title>1946940833120&#45;&gt;1946940830528+</title>\n",
       "<path fill=\"none\" stroke=\"black\" d=\"M1841.6,-34.6C1851.15,-36.26 1860.37,-37.88 1868.68,-39.33\"/>\n",
       "<polygon fill=\"black\" stroke=\"black\" points=\"1868.2,-42.8 1878.65,-41.07 1869.4,-35.9 1868.2,-42.8\"/>\n",
       "</g>\n",
       "<!-- 1946941192656 -->\n",
       "<g id=\"node27\" class=\"node\">\n",
       "<title>1946941192656</title>\n",
       "<polygon fill=\"none\" stroke=\"black\" points=\"695.5,-56.5 695.5,-92.5 880.5,-92.5 880.5,-56.5 695.5,-56.5\"/>\n",
       "<text text-anchor=\"middle\" x=\"707\" y=\"-70.8\" font-family=\"Times New Roman,serif\" font-size=\"14.00\">b</text>\n",
       "<polyline fill=\"none\" stroke=\"black\" points=\"718.5,-56.5 718.5,-92.5 \"/>\n",
       "<text text-anchor=\"middle\" x=\"758.5\" y=\"-70.8\" font-family=\"Times New Roman,serif\" font-size=\"14.00\">data 6.8814</text>\n",
       "<polyline fill=\"none\" stroke=\"black\" points=\"798.5,-56.5 798.5,-92.5 \"/>\n",
       "<text text-anchor=\"middle\" x=\"839.5\" y=\"-70.8\" font-family=\"Times New Roman,serif\" font-size=\"14.00\">grad 0.5000</text>\n",
       "</g>\n",
       "<!-- 1946941192656&#45;&gt;1946940832976+ -->\n",
       "<g id=\"edge14\" class=\"edge\">\n",
       "<title>1946941192656&#45;&gt;1946940832976+</title>\n",
       "<path fill=\"none\" stroke=\"black\" d=\"M880.77,-88.04C900.52,-90.95 920.26,-93.87 936.29,-96.23\"/>\n",
       "<polygon fill=\"black\" stroke=\"black\" points=\"935.86,-99.71 946.26,-97.7 936.88,-92.78 935.86,-99.71\"/>\n",
       "</g>\n",
       "<!-- 1946940831200 -->\n",
       "<g id=\"node28\" class=\"node\">\n",
       "<title>1946940831200</title>\n",
       "<polygon fill=\"none\" stroke=\"black\" points=\"1655,-110.5 1655,-146.5 1842,-146.5 1842,-110.5 1655,-110.5\"/>\n",
       "<text text-anchor=\"middle\" x=\"1665\" y=\"-124.8\" font-family=\"Times New Roman,serif\" font-size=\"14.00\"> </text>\n",
       "<polyline fill=\"none\" stroke=\"black\" points=\"1675,-110.5 1675,-146.5 \"/>\n",
       "<text text-anchor=\"middle\" x=\"1717.5\" y=\"-124.8\" font-family=\"Times New Roman,serif\" font-size=\"14.00\">data &#45;1.0000</text>\n",
       "<polyline fill=\"none\" stroke=\"black\" points=\"1760,-110.5 1760,-146.5 \"/>\n",
       "<text text-anchor=\"middle\" x=\"1801\" y=\"-124.8\" font-family=\"Times New Roman,serif\" font-size=\"14.00\">grad 0.1464</text>\n",
       "</g>\n",
       "<!-- 1946940831200&#45;&gt;1946940831440+ -->\n",
       "<g id=\"edge28\" class=\"edge\">\n",
       "<title>1946940831200&#45;&gt;1946940831440+</title>\n",
       "<path fill=\"none\" stroke=\"black\" d=\"M1842.05,-111.73C1851.54,-110.01 1860.71,-108.35 1868.95,-106.85\"/>\n",
       "<polygon fill=\"black\" stroke=\"black\" points=\"1869.64,-110.28 1878.85,-105.06 1868.39,-103.4 1869.64,-110.28\"/>\n",
       "</g>\n",
       "</g>\n",
       "</svg>\n"
      ],
      "text/plain": [
       "<graphviz.graphs.Digraph at 0x1c54eb770a0>"
      ]
     },
     "execution_count": 14,
     "metadata": {},
     "output_type": "execute_result"
    }
   ],
   "source": [
    "# inputs x1,x2\n",
    "x1 = Value(2.0, label='x1')\n",
    "x2 = Value(0.0, label = 'x2')\n",
    "\n",
    "# weights w1,w2\n",
    "w1 = Value(-3.0, label = 'w1')\n",
    "w2 = Value(1.0, label = 'w2')\n",
    "\n",
    "# bias for the nueron\n",
    "b = Value(6.8813735870195432, label = 'b')\n",
    "\n",
    "# performing x1*w1 + x2*w2 + b\n",
    "x1w1 = x1*w1; x1w1.label = 'x1w1'\n",
    "x2w2 = x2*w2; x2w2.label = 'x2w2'\n",
    "x1w1x2w2 = x1w1 + x2w2; x1w1x2w2.label = 'x1w1x2w2'\n",
    "n= x1w1x2w2 + b; n.label = 'n'\n",
    "\n",
    "# o = n.tanh();   #instead of using tanh directly let's use the mathematical formula of tanh that we have and we added functions +,-,*,exp,pow..etc\n",
    "e = (2*n).exp()\n",
    "o = (e - 1)/(e + 1)\n",
    "o.label = 'o'     \n",
    "o.backward()\n",
    "draw_dot(o)"
   ]
  },
  {
   "cell_type": "code",
   "execution_count": 15,
   "id": "5f2073bc-94b7-4e62-82af-19db7ccc45ef",
   "metadata": {},
   "outputs": [],
   "source": [
    "import torch"
   ]
  },
  {
   "cell_type": "markdown",
   "id": "a7886df8-9dcf-4d0b-9f02-9f13289f609f",
   "metadata": {},
   "source": [
    "# Explanation of below PyTorch code\n",
    "## In above code we have created a Scalars i.e., single value element but in PyTorch..\n",
    "## We have Tensors which stores element in the form of vectors in c++ or we can say in matrix format\n",
    "We use .double() because double is the format in which python considers any floating point integer <br>\n",
    "We have to add .requires_grad = True as by default in PyTorch the gradient calculation of variable is set to false for optimization purpose <br>\n",
    "## Out of many element to get back the one single element we want we use .item() or .data.item()  ad they slice the single variable from all other variables present in Tensor\n",
    "We perform .item() or .data.item() both gives the same results.. they return the single element value out of many other present in the tensors"
   ]
  },
  {
   "cell_type": "code",
   "execution_count": 16,
   "id": "a54c7bae-4b8e-4d7a-828a-e7643d07f607",
   "metadata": {},
   "outputs": [
    {
     "name": "stdout",
     "output_type": "stream",
     "text": [
      "0.7071066904050358\n",
      "___\n",
      "x2 0.5000001283844369\n",
      "w2 0.0\n",
      "x1 -1.5000003851533106\n",
      "w1 1.0000002567688737\n"
     ]
    }
   ],
   "source": [
    "x1 = torch.Tensor([2.0]).double()                         ; x1.requires_grad = True\n",
    "x2 = torch.Tensor([0.0]).double()                         ; x2.requires_grad = True\n",
    "w1 = torch.Tensor([-3.0]).double()                        ; w1.requires_grad = True          \n",
    "w2 = torch.Tensor([1.0]).double()                         ; w2.requires_grad = True \n",
    "b = torch.Tensor([6.8813735870195432]).double()           ; b.requires_grad = True\n",
    "n = x1*w1 + x2*w2 + b                                     \n",
    "o = torch.tanh(n)\n",
    "\n",
    "print(o.data.item())\n",
    "o.backward()\n",
    "\n",
    "print('___')\n",
    "print('x2', x2.grad.item())\n",
    "print('w2', w2.grad.item())\n",
    "print('x1', x1.grad.item())\n",
    "print('w1', w1.grad.item())"
   ]
  },
  {
   "cell_type": "markdown",
   "id": "857d3da7-ca5e-40a0-8589-e24d692f3051",
   "metadata": {},
   "source": [
    "# Creating a nueral network "
   ]
  },
  {
   "cell_type": "markdown",
   "id": "1d0e0d87-0664-4ae2-919c-3128f7ad33f4",
   "metadata": {},
   "source": [
    "# Explaining class Neuron\n",
    "The __init__ method takes, self, and nin as input parameters, the __nin__ is the number of __input__ nueron or 'x' in wi*xi to be there <br>\n",
    "self.w generates __random__ values for weight 'w' for each wi*xi and self.b generates random value for bias 'b' <br>\n",
    "def __call__ this method will be __executed__ when we call the Neuron class and the __structure__ of Neuron class was defined in __init__ function <br>\n",
    "act is __activaiton__ i.e., activation for __nueron__ a passing threshold you can say and out = output w.r.t tanh() <br>\n",
    "## Zip function\n",
    "__zip__ function creates two variables w and x as a pair (w, x) (as we passed these names), from the values present in the tuple <br>\n",
    "and __iterates__ over the tuple till it is completed <br>\n",
    "you can __check__ how it __creates__ by printing following line \"print(list(zip(self.w,x)))\" before the return out statement of __call__ function <br>\n",
    "These __pairs__ are then multiplied as (wi * xi) as we have mentioned at the start __wi*xi__ for...... this makes them multiply <br>\n",
    "and then at last we sum them to get __activtion__ __function__ <br>\n",
    "## sum\n",
    "in __sum__ we can pass two variables, we __first__ have passed the input whose sum we want and __then__ instead of adding __bias__ __outsinde__ we just __wrote__ it here __inside__ as this value is by __default__ __=__ __0__. So just for __efficiency__ we added __bias__ __inside__, we could have __added__ bias __outside__ also "
   ]
  },
  {
   "cell_type": "code",
   "execution_count": 17,
   "id": "66438b0f-7c8e-43b5-83db-03c78046697b",
   "metadata": {},
   "outputs": [],
   "source": [
    "import random"
   ]
  },
  {
   "cell_type": "code",
   "execution_count": 18,
   "id": "65788bfe-557c-4da1-9feb-6e87daa65052",
   "metadata": {},
   "outputs": [
    {
     "data": {
      "text/plain": [
       "Value (data = 0.9788586015312543)"
      ]
     },
     "execution_count": 18,
     "metadata": {},
     "output_type": "execute_result"
    }
   ],
   "source": [
    "class Neuron:\n",
    "    def __init__(self, nin):\n",
    "        self.w = [Value(random.uniform(-1,1)) for _ in range(nin)]\n",
    "        self.b = Value(random.uniform(-1,1))\n",
    "\n",
    "    def __call__(self, x):\n",
    "        act = sum((wi * xi for wi, xi in zip(self.w, x)), self.b)\n",
    "        out = act.tanh()\n",
    "        return out\n",
    "\n",
    "x = [2.0, 3.0]\n",
    "n = Neuron(2)\n",
    "n(x)"
   ]
  },
  {
   "cell_type": "markdown",
   "id": "1d1905ff-b400-4267-af81-36a093806c80",
   "metadata": {},
   "source": [
    "# The above code was for just single nueron the below code is for a whole multi-layer Nueral Network"
   ]
  },
  {
   "cell_type": "markdown",
   "id": "0e13c0f8-7762-4bf8-9623-33c01b1c1c4b",
   "metadata": {},
   "source": [
    "# Layer Class Explanation\n",
    "In the __init__ function we pass __3__ inputs.. self, nin, nout <br>\n",
    "The __nin__ is the number of __input__ __neurons__ we want in __input layer__ <br>\n",
    "The __nout__ is the number of __perceptron/neurons__ we want in __\"output layer\" or \"nextlayer\" or \"hidden layer\"__ <br>\n",
    "The __call__ function __evaluates__ the neuron of input layer for __each neuron__ in __output/perceptron/hidden layer__\n",
    "\n",
    "# MLP i.e., Multi-Layer-Perceptron Class Explanation\n",
    "Instead of creating __single nouts layer__ like we did in __earlier method__ we create a list of these __hidden/perceptron__ layer in one __single execution__ as __nouts__ here is a __\"list\"__ <br>\n",
    "__nouts__ contain the __sizes of each layer__ we want in a form of a __list__ <br>\n",
    "In __sz__ we put all the __sizes together__ <br>\n",
    "In __self.layers__ we __iterate__ over __each sizes__ and __create__ a __object Layer__ for __each__ of the __sizes__ <br>\n",
    "In __call__ function we call them __sequentially__"
   ]
  },
  {
   "cell_type": "code",
   "execution_count": 19,
   "id": "2b51d47c-298c-4409-ad2f-e1cd73a7d717",
   "metadata": {},
   "outputs": [],
   "source": [
    "class Neuron:\n",
    "    def __init__(self, nin):\n",
    "        self.w = [Value(random.uniform(-1,1)) for _ in range(nin)]\n",
    "        self.b = Value(random.uniform(-1,1))\n",
    "\n",
    "    def __call__(self, x):\n",
    "        act = sum((wi * xi for wi, xi in zip(self.w, x)), self.b)\n",
    "        out = act.tanh()\n",
    "        return out\n",
    "\n",
    "    def parameters(self):\n",
    "        return self.w + [self.b]\n",
    "\n",
    "class Layer:\n",
    "    def __init__(self, nin, nout):\n",
    "        self.neurons =[Neuron(nin) for _ in range(nout)]\n",
    "        \n",
    "    def __call__(self, x):\n",
    "        outs = [n(x) for n in self.neurons]\n",
    "        # return outs    # this returns a list in single value, so we can't clearly understand anything from it\n",
    "        return outs[0] if len(outs) == 1 else outs     # this will give us the output of last single neuron \n",
    "                                                       # which is present after all the hidden and input layers the output \n",
    "    def parameters(self):\n",
    "        return [p for neuron in self.neurons for p in neuron.parameters()]\n",
    "        \n",
    "class MLP:\n",
    "    def __init__(self, nin, nouts):\n",
    "        sz = [nin] + nouts\n",
    "        self.layers = [Layer(sz[i], sz[i+1]) for i in range(len(nouts))]\n",
    "\n",
    "    def __call__(self, x):\n",
    "        for layer in self.layers:\n",
    "            x = layer(x)\n",
    "        return x\n",
    "\n",
    "    def parameters(self):\n",
    "        return [p for layer in self.layers for p in layer.parameters()]"
   ]
  },
  {
   "cell_type": "code",
   "execution_count": 20,
   "id": "31c12f43-6b34-4667-a6f2-1f4558aa845b",
   "metadata": {},
   "outputs": [
    {
     "data": {
      "text/plain": [
       "Value (data = -0.7777738758387135)"
      ]
     },
     "execution_count": 20,
     "metadata": {},
     "output_type": "execute_result"
    }
   ],
   "source": [
    "x = [2.0, 3.0, -1.0]\n",
    "n = MLP(3, [4, 4, 1])\n",
    "n(x)"
   ]
  },
  {
   "cell_type": "code",
   "execution_count": 21,
   "id": "f5b3df8b-4949-4153-81ea-b3d7277bfe74",
   "metadata": {},
   "outputs": [
    {
     "data": {
      "text/plain": [
       "41"
      ]
     },
     "execution_count": 21,
     "metadata": {},
     "output_type": "execute_result"
    }
   ],
   "source": [
    "# n.parameters()               # value of each parameter\n",
    "len(n.parameters())            # total number of parameters  "
   ]
  },
  {
   "cell_type": "code",
   "execution_count": 22,
   "id": "757045c2-2726-4b09-8902-094fe0d5fb31",
   "metadata": {},
   "outputs": [],
   "source": [
    "# draw_dot(n(x))   # If you want to see how your neural network looks check this for fun"
   ]
  },
  {
   "cell_type": "markdown",
   "id": "e2588c1b-c1c6-4113-b490-be746e20d490",
   "metadata": {},
   "source": [
    "# The below code is an example for the MLP we created above\n",
    "In __xs__ we have __created__ a __list__ of __inputs__ for our MLP <br>\n",
    "In __ys__ we have kept what output we want, this is __just__ for __visualization__ we __haven't used ys__ anywhere <br>\n",
    "You could __write ys__ in __notepad__ or keep in your mind as well we just kept it here for __easy visualization__ purpose <br>\n",
    "In __ypred__ we __calculate__ __n(x)__ as we calculated above, for __each input__ in __xs__ <br>\n",
    "The __for loop__ variable __x iterates__ over __each elements__ <br>\n",
    "__x__ takes __one input__ and then __n(x)__ is __calculaed__ for it then x takes next input calculates for it in n(x) and __so on__..<br>\n",
    "__ypred__ is a __list__ so it __stores__ all the __outputs__ and then print it"
   ]
  },
  {
   "cell_type": "code",
   "execution_count": 23,
   "id": "d923999d-0607-4410-81d4-66fa52903310",
   "metadata": {},
   "outputs": [],
   "source": [
    "xs = [\n",
    "      [2.0, 3.0, -1.0],\n",
    "      [3.0, -1.0, 0.5],\n",
    "      [0.5, 1.0, 1.0],\n",
    "      [1.0, 1.0 -1.0],\n",
    "     ]\n",
    "\n",
    "ys = [1.0, -1.0, -1.0, 1.0]  # desired output\n",
    "# ypred = [n(x) for x in xs]\n",
    "# ypred"
   ]
  },
  {
   "cell_type": "markdown",
   "id": "b35c402b-637e-49f0-a14c-ac3232af1eee",
   "metadata": {},
   "source": [
    "# We check how much loss is there i.e., how much is the outputs we got differ from the original target output\n",
    "We create ygt (y ground truth or actual or expected) and yout (output/predicted) and use zip to tuple or create pair of yout and ygt <br>\n",
    "Explanation of zip is given earlier during Single Neuron Creation <br>"
   ]
  },
  {
   "cell_type": "code",
   "execution_count": 24,
   "id": "0769c450-760f-4683-bcc6-03f0138ecf03",
   "metadata": {},
   "outputs": [],
   "source": [
    "# [(yout - ygt)**2 for ygt, yout in zip(ys, ypred)]"
   ]
  },
  {
   "cell_type": "markdown",
   "id": "bdf0ed2b-2cfd-4265-a73e-b48b9976d43a",
   "metadata": {},
   "source": [
    "# We sum all the individual losses to get the final loss of model"
   ]
  },
  {
   "cell_type": "code",
   "execution_count": 26,
   "id": "e97497f9-a09f-41c4-a242-076a2af6a24d",
   "metadata": {},
   "outputs": [
    {
     "data": {
      "text/plain": [
       "Value (data = 6.788310443456489)"
      ]
     },
     "execution_count": 26,
     "metadata": {},
     "output_type": "execute_result"
    }
   ],
   "source": [
    "ypred = [n(x) for x in xs]\n",
    "loss = Value(0.0)\n",
    "for ygt, yout in zip(ys, ypred):\n",
    "    loss += (yout - ygt)**2\n",
    "\n",
    "loss"
   ]
  },
  {
   "cell_type": "code",
   "execution_count": 27,
   "id": "6dc5d0e5-4d97-44b9-a874-0dfae8b96cab",
   "metadata": {},
   "outputs": [
    {
     "data": {
      "text/plain": [
       "Value (data = 6.788310443456489)"
      ]
     },
     "execution_count": 27,
     "metadata": {},
     "output_type": "execute_result"
    }
   ],
   "source": [
    "ypred = [n(x) for x in xs]\n",
    "loss = Value(0.0)\n",
    "for ygt, yout in zip(ys, ypred):\n",
    "    loss += (yout - ygt)**2\n",
    "\n",
    "loss"
   ]
  },
  {
   "cell_type": "code",
   "execution_count": 28,
   "id": "f1b555b2-3f42-4658-a314-8f721a33bf83",
   "metadata": {},
   "outputs": [],
   "source": [
    "loss.backward()   # to calculate gradient or backward pass or back propagation"
   ]
  },
  {
   "cell_type": "code",
   "execution_count": 29,
   "id": "e6b264cd-8e7b-45a9-a68e-b847824c8b6f",
   "metadata": {},
   "outputs": [],
   "source": [
    "# details are given in below explanation\n",
    "for p in n.parameters():\n",
    "    p.data += -0.01 * p.grad"
   ]
  },
  {
   "cell_type": "code",
   "execution_count": 30,
   "id": "3d8046f0-41fa-490d-ad72-119a78978ad3",
   "metadata": {},
   "outputs": [
    {
     "data": {
      "text/plain": [
       "[Value (data = -0.7777738758387135),\n",
       " Value (data = -0.8427273507513604),\n",
       " Value (data = -0.8989987711178261),\n",
       " Value (data = -0.895493222199566)]"
      ]
     },
     "execution_count": 30,
     "metadata": {},
     "output_type": "execute_result"
    }
   ],
   "source": [
    "ypred"
   ]
  },
  {
   "cell_type": "code",
   "execution_count": 31,
   "id": "ea06e71f-8c68-4c63-b26c-5f473180d076",
   "metadata": {},
   "outputs": [
    {
     "data": {
      "text/plain": [
       "[Value (data = 0.9514880512849969),\n",
       " Value (data = -0.8636028666846277),\n",
       " Value (data = -0.32842008465655004),\n",
       " Value (data = 0.3978718141169018),\n",
       " Value (data = -0.4213321950004544),\n",
       " Value (data = 0.04415066717949081),\n",
       " Value (data = 0.746948113306603),\n",
       " Value (data = 0.6956176220054445),\n",
       " Value (data = 0.9619218810251072),\n",
       " Value (data = 0.5803884558023011),\n",
       " Value (data = 0.810422845315749),\n",
       " Value (data = -0.07505861250895775),\n",
       " Value (data = -0.20179406399557695),\n",
       " Value (data = -0.29411750060506936),\n",
       " Value (data = -0.8516847790200833),\n",
       " Value (data = 0.582281193159083),\n",
       " Value (data = -0.15349046626232038),\n",
       " Value (data = 0.20578361348835109),\n",
       " Value (data = -0.3223106287607131),\n",
       " Value (data = 0.5279684091947937),\n",
       " Value (data = -0.0016700927170291875),\n",
       " Value (data = 0.11987355593256178),\n",
       " Value (data = -0.07924532798131084),\n",
       " Value (data = 0.12387064628423564),\n",
       " Value (data = 0.026667510022075656),\n",
       " Value (data = -0.22886337153297592),\n",
       " Value (data = -0.022841365410888628),\n",
       " Value (data = 0.8332610341245705),\n",
       " Value (data = 0.8280291883313176),\n",
       " Value (data = -0.9298870421592377),\n",
       " Value (data = 0.20722158480765715),\n",
       " Value (data = 0.6587760270799006),\n",
       " Value (data = 0.6297425447296932),\n",
       " Value (data = 0.987043534409126),\n",
       " Value (data = 0.04004472620643014),\n",
       " Value (data = 0.6494255177467859),\n",
       " Value (data = -0.9054406436058944),\n",
       " Value (data = -0.3342238820215852),\n",
       " Value (data = -0.8862525659206774),\n",
       " Value (data = -0.30807968552049614),\n",
       " Value (data = -0.6485344960876176)]"
      ]
     },
     "execution_count": 31,
     "metadata": {},
     "output_type": "execute_result"
    }
   ],
   "source": [
    "n.parameters()   # these are the parameters which make the neural network predict output "
   ]
  },
  {
   "cell_type": "markdown",
   "id": "2aa3d871-ff4f-4e1f-a319-d214d03b972a",
   "metadata": {},
   "source": [
    "# We are using gradient descent \n",
    "## So in gradient descent the vector (think of graph and then vector in it) points in a direction where if you increase it the loss increases\n",
    "## But we need to reduce the loss so we use negative '-' to step i.e., 0.01 in this case\n",
    "## Hence we use '-' to step i.e., -0.01 (negative) instead of 0.01 (positive) so that the model loss decreases instead of increasing"
   ]
  },
  {
   "cell_type": "code",
   "execution_count": 32,
   "id": "5c2b5cf9-6be2-4c28-9621-76913ee40ddf",
   "metadata": {},
   "outputs": [],
   "source": [
    "# n.layers[0].neurons[0].w[0].data   # data used by the nueron or input"
   ]
  },
  {
   "cell_type": "code",
   "execution_count": 33,
   "id": "721d6185-e625-40ca-bcfd-3eec6d5eda0f",
   "metadata": {},
   "outputs": [],
   "source": [
    "# n.layers[0].neurons[0].w[0]       "
   ]
  },
  {
   "cell_type": "code",
   "execution_count": 34,
   "id": "1f194f59-d33c-4cef-9854-a0a692c51fc9",
   "metadata": {},
   "outputs": [],
   "source": [
    "# n.layers[0].neurons[0].w[0].grad   #calcuates gradient"
   ]
  },
  {
   "cell_type": "code",
   "execution_count": 35,
   "id": "a181aebe-cd6d-4dd1-9e64-c44ffc8df9a7",
   "metadata": {},
   "outputs": [],
   "source": [
    "# draw_dot(loss)"
   ]
  },
  {
   "cell_type": "code",
   "execution_count": 38,
   "id": "f39cbd45-a783-4f98-8b8b-f4770385828a",
   "metadata": {},
   "outputs": [
    {
     "name": "stdout",
     "output_type": "stream",
     "text": [
      "0 0.09260412809326292\n",
      "1 0.08682563156271686\n",
      "2 0.0816826048047575\n",
      "3 0.0770783944644653\n",
      "4 0.07293470737760974\n",
      "5 0.06918749190222268\n",
      "6 0.06578387272489182\n",
      "7 0.06267983913159315\n",
      "8 0.05983848024523078\n",
      "9 0.057228622747174746\n",
      "10 0.0548237684696679\n",
      "11 0.05260125797824326\n",
      "12 0.05054160627626278\n",
      "13 0.04862797089573315\n",
      "14 0.04684572274496961\n",
      "15 0.045182097396579926\n",
      "16 0.04362590984891629\n",
      "17 0.04216731974777809\n",
      "18 0.04079763700506167\n",
      "19 0.03950915997187769\n"
     ]
    }
   ],
   "source": [
    "for k in range(20):\n",
    "\n",
    "    # forward pass\n",
    "    ypred = [n(x) for x in xs]\n",
    "    loss = Value(0.0)\n",
    "    for ygt, yout in zip(ys, ypred):\n",
    "        loss += (yout - ygt)**2\n",
    "\n",
    "    # backward pass\n",
    "    for p in n.parameters():\n",
    "        p.grad = 0.0\n",
    "    loss.backward()\n",
    "\n",
    "    # update\n",
    "    for p in n.parameters():\n",
    "        p.data += -0.05 * p.grad\n",
    "    \n",
    "    print(k, loss.data)"
   ]
  },
  {
   "cell_type": "code",
   "execution_count": 39,
   "id": "dd97e94c-160a-41df-bba6-b156ebb3815f",
   "metadata": {},
   "outputs": [
    {
     "data": {
      "text/plain": [
       "[Value (data = 0.9511912574185977),\n",
       " Value (data = -0.8798687324893718),\n",
       " Value (data = -0.9242150099208517),\n",
       " Value (data = 0.8698002286311786)]"
      ]
     },
     "execution_count": 39,
     "metadata": {},
     "output_type": "execute_result"
    }
   ],
   "source": [
    "ypred"
   ]
  },
  {
   "cell_type": "code",
   "execution_count": null,
   "id": "20410dc3-8161-45aa-bc06-8b85dfef8919",
   "metadata": {},
   "outputs": [],
   "source": []
  }
 ],
 "metadata": {
  "kernelspec": {
   "display_name": "Python 3 (ipykernel)",
   "language": "python",
   "name": "python3"
  },
  "language_info": {
   "codemirror_mode": {
    "name": "ipython",
    "version": 3
   },
   "file_extension": ".py",
   "mimetype": "text/x-python",
   "name": "python",
   "nbconvert_exporter": "python",
   "pygments_lexer": "ipython3",
   "version": "3.9.19"
  }
 },
 "nbformat": 4,
 "nbformat_minor": 5
}
